{
  "nbformat": 4,
  "nbformat_minor": 0,
  "metadata": {
    "colab": {
      "provenance": [],
      "authorship_tag": "ABX9TyOPYZpL8xmv7scPoz4uwHAe",
      "include_colab_link": true
    },
    "kernelspec": {
      "name": "python3",
      "display_name": "Python 3"
    },
    "language_info": {
      "name": "python"
    }
  },
  "cells": [
    {
      "cell_type": "markdown",
      "metadata": {
        "id": "view-in-github",
        "colab_type": "text"
      },
      "source": [
        "<a href=\"https://colab.research.google.com/github/treeoflemon/example-repo/blob/main/Untitled0.ipynb\" target=\"_parent\"><img src=\"https://colab.research.google.com/assets/colab-badge.svg\" alt=\"Open In Colab\"/></a>"
      ]
    },
    {
      "cell_type": "code",
      "execution_count": 2,
      "metadata": {
        "colab": {
          "base_uri": "https://localhost:8080/"
        },
        "id": "ac4mReRGpWJY",
        "outputId": "88214d6a-7899-469d-b53e-ecf9bcd715ce"
      },
      "outputs": [
        {
          "output_type": "stream",
          "name": "stdout",
          "text": [
            "Hello world\n"
          ]
        }
      ],
      "source": [
        "print(\"Hello world\");\n"
      ]
    },
    {
      "cell_type": "markdown",
      "source": [
        "# Büyük Başlık\n",
        "## Orta Başlık\n",
        "### H3\n",
        "\n",
        "- liste1\n",
        "- eleman2\n",
        "'''python\n"
      ],
      "metadata": {
        "id": "yCpt-nyGqoyA"
      }
    },
    {
      "cell_type": "code",
      "source": [
        "\n"
      ],
      "metadata": {
        "id": "OiNerA-2qQMI"
      },
      "execution_count": 2,
      "outputs": []
    },
    {
      "cell_type": "code",
      "source": [
        "print(\"merhaba dünya\")"
      ],
      "metadata": {
        "colab": {
          "base_uri": "https://localhost:8080/"
        },
        "id": "nXk41Lh5wgMA",
        "outputId": "3487f723-c664-4c31-f89e-006a76315a91"
      },
      "execution_count": 4,
      "outputs": [
        {
          "output_type": "stream",
          "name": "stdout",
          "text": [
            "merhaba dünya\n"
          ]
        }
      ]
    },
    {
      "cell_type": "code",
      "source": [
        "## Yorum satırları"
      ],
      "metadata": {
        "id": "tSOkboDVwjMh"
      },
      "execution_count": 5,
      "outputs": []
    },
    {
      "cell_type": "code",
      "source": [
        "#Burda bir yorum mudur\n",
        "\n",
        "\"\"\"\n",
        "bu bir yorum\n",
        "buda bir yorumdur\n",
        "\"\"\"\n"
      ],
      "metadata": {
        "colab": {
          "base_uri": "https://localhost:8080/",
          "height": 35
        },
        "id": "OqcTugHwxpHp",
        "outputId": "baa5510c-ce24-4e54-ff9b-3580f2696204"
      },
      "execution_count": 7,
      "outputs": [
        {
          "output_type": "execute_result",
          "data": {
            "text/plain": [
              "'\\nbu bir yorum\\nbuda bir yorumdur\\n'"
            ],
            "application/vnd.google.colaboratory.intrinsic+json": {
              "type": "string"
            }
          },
          "metadata": {},
          "execution_count": 7
        }
      ]
    },
    {
      "cell_type": "code",
      "source": [
        "print(\"Merhaba\")\n",
        "print(\"Merhaba Halkbank\")\n",
        "print(\"Python Programlama Eğitimi\")"
      ],
      "metadata": {
        "colab": {
          "base_uri": "https://localhost:8080/"
        },
        "id": "J3x9kU8ix01L",
        "outputId": "cd90d684-eff4-400b-d96c-22f99d7aad23"
      },
      "execution_count": 9,
      "outputs": [
        {
          "output_type": "stream",
          "name": "stdout",
          "text": [
            "Merhaba\n",
            "Merhaba Halkbank\n",
            "Python Programlama Eğitimi\n"
          ]
        }
      ]
    },
    {
      "cell_type": "code",
      "source": [
        "# =vlookup(a2;tablo;2;0) excelde parametre ayrımı\n",
        "print(1,2,3)\n"
      ],
      "metadata": {
        "colab": {
          "base_uri": "https://localhost:8080/"
        },
        "id": "7BgYlimOybqY",
        "outputId": "3c9ff908-6fcd-47ce-acfb-4d94e3201493"
      },
      "execution_count": 10,
      "outputs": [
        {
          "output_type": "stream",
          "name": "stdout",
          "text": [
            "1 2 3\n"
          ]
        }
      ]
    },
    {
      "cell_type": "code",
      "source": [
        "print(\"Python\",\"Aylin\")"
      ],
      "metadata": {
        "colab": {
          "base_uri": "https://localhost:8080/"
        },
        "id": "RLq7O59FyvCP",
        "outputId": "f4461b92-5907-4be8-fb2a-c0751788cb3c"
      },
      "execution_count": 11,
      "outputs": [
        {
          "output_type": "stream",
          "name": "stdout",
          "text": [
            "Python Aylin\n"
          ]
        }
      ]
    },
    {
      "cell_type": "code",
      "source": [
        "print(5+5)\n"
      ],
      "metadata": {
        "colab": {
          "base_uri": "https://localhost:8080/"
        },
        "id": "2EtLGyHUy2ZR",
        "outputId": "94dc5fc6-7d23-41d9-9fab-6db9db94e3a0"
      },
      "execution_count": 12,
      "outputs": [
        {
          "output_type": "stream",
          "name": "stdout",
          "text": [
            "10\n"
          ]
        }
      ]
    },
    {
      "cell_type": "code",
      "source": [
        "###sep parametresi\n",
        "# Öntanımlı olarak(default) boşluktur"
      ],
      "metadata": {
        "id": "cz0Cnr6Dy7S3"
      },
      "execution_count": 16,
      "outputs": []
    },
    {
      "cell_type": "code",
      "source": [
        "print(\"Halk\", \"bank\", sep=\"_\")"
      ],
      "metadata": {
        "colab": {
          "base_uri": "https://localhost:8080/"
        },
        "id": "RTOM_vzNze41",
        "outputId": "c2401ca0-888a-4831-fb6b-4a661c04d94c"
      },
      "execution_count": 17,
      "outputs": [
        {
          "output_type": "stream",
          "name": "stdout",
          "text": [
            "Halk_bank\n"
          ]
        }
      ]
    },
    {
      "cell_type": "code",
      "source": [
        "print(\"Python\",\"Programlama\",\"Egitimi\",\"Grup\",\"5\",sep=\" \")"
      ],
      "metadata": {
        "colab": {
          "base_uri": "https://localhost:8080/"
        },
        "id": "_-A6hnY5znjH",
        "outputId": "a0e2ebd2-38a7-49a7-d497-c8a361a43809"
      },
      "execution_count": 23,
      "outputs": [
        {
          "output_type": "stream",
          "name": "stdout",
          "text": [
            "Python Programlama Egitimi Grup 5\n"
          ]
        }
      ]
    },
    {
      "cell_type": "code",
      "source": [],
      "metadata": {
        "id": "SsRqiwwc0XTO"
      },
      "execution_count": null,
      "outputs": []
    },
    {
      "cell_type": "code",
      "source": [
        "print(\"Python\",\"Programlama\",\"Egitimi\",\"Grup\",\"5\",\".xlxs\",sep=\"\")"
      ],
      "metadata": {
        "colab": {
          "base_uri": "https://localhost:8080/"
        },
        "id": "BfT_pE59z4gf",
        "outputId": "8819f674-24a6-48bc-863f-dc24ba621a51"
      },
      "execution_count": 22,
      "outputs": [
        {
          "output_type": "stream",
          "name": "stdout",
          "text": [
            "PythonProgramlamaEgitimiGrup5.xlxs\n"
          ]
        }
      ]
    },
    {
      "cell_type": "code",
      "source": [
        "print(\"Merhaba Dünya\", end=\".\")\n",
        "print(\"Merhaba Halkbank\")"
      ],
      "metadata": {
        "colab": {
          "base_uri": "https://localhost:8080/"
        },
        "id": "YhnfhsFc0PQC",
        "outputId": "7ec1f43f-3fed-452f-f508-0e8f6f9c10b3"
      },
      "execution_count": 25,
      "outputs": [
        {
          "output_type": "stream",
          "name": "stdout",
          "text": [
            "Merhaba Dünya.Merhaba Halkbank\n"
          ]
        }
      ]
    },
    {
      "cell_type": "code",
      "source": [
        "### Değişkenler\n"
      ],
      "metadata": {
        "id": "wKebVetT0pBG"
      },
      "execution_count": 26,
      "outputs": []
    },
    {
      "cell_type": "code",
      "source": [
        "##Değişkenler\n"
      ],
      "metadata": {
        "id": "BCJarn874weG"
      },
      "execution_count": 27,
      "outputs": []
    },
    {
      "cell_type": "code",
      "source": [],
      "metadata": {
        "id": "cIztXTW941jd"
      },
      "execution_count": 27,
      "outputs": []
    },
    {
      "cell_type": "code",
      "source": [],
      "metadata": {
        "id": "8OoeMZmz5Ucb"
      },
      "execution_count": null,
      "outputs": []
    },
    {
      "cell_type": "code",
      "source": [],
      "metadata": {
        "id": "166OCKOC0lHE"
      },
      "execution_count": null,
      "outputs": []
    },
    {
      "cell_type": "code",
      "source": [],
      "metadata": {
        "id": "g0MVcYNa0Ite"
      },
      "execution_count": null,
      "outputs": []
    },
    {
      "cell_type": "code",
      "source": [],
      "metadata": {
        "id": "ZlDBSR780GHy"
      },
      "execution_count": null,
      "outputs": []
    },
    {
      "cell_type": "code",
      "source": [],
      "metadata": {
        "id": "ccc497gVz2r2"
      },
      "execution_count": null,
      "outputs": []
    },
    {
      "cell_type": "code",
      "source": [],
      "metadata": {
        "id": "VtLFnsAKzUBI"
      },
      "execution_count": null,
      "outputs": []
    },
    {
      "cell_type": "code",
      "source": [],
      "metadata": {
        "id": "XHu4LSF8zPHB"
      },
      "execution_count": null,
      "outputs": []
    },
    {
      "cell_type": "markdown",
      "source": [
        "Değişkenler\n"
      ],
      "metadata": {
        "id": "ZeCMaX5J5ZR7"
      }
    },
    {
      "cell_type": "code",
      "source": [
        "age = 25\n",
        "name = \"Jhon\"\n",
        "is_student = True\n",
        "total_score = 95.5\n"
      ],
      "metadata": {
        "id": "z-HKwiq75ck-"
      },
      "execution_count": 28,
      "outputs": []
    },
    {
      "cell_type": "code",
      "source": [
        "print(age, name,is_student, total_score)"
      ],
      "metadata": {
        "colab": {
          "base_uri": "https://localhost:8080/"
        },
        "id": "jQv9tKIC5teA",
        "outputId": "2cc1d6f4-b67f-45ff-a551-990d4d465978"
      },
      "execution_count": 30,
      "outputs": [
        {
          "output_type": "stream",
          "name": "stdout",
          "text": [
            "25 Jhon True 95.5\n"
          ]
        }
      ]
    },
    {
      "cell_type": "code",
      "source": [
        "print(age+5)\n"
      ],
      "metadata": {
        "colab": {
          "base_uri": "https://localhost:8080/"
        },
        "id": "ps2YGs2_50td",
        "outputId": "b5b80495-9cca-4a31-d544-e117ccd4c0a0"
      },
      "execution_count": 31,
      "outputs": [
        {
          "output_type": "stream",
          "name": "stdout",
          "text": [
            "30\n"
          ]
        }
      ]
    },
    {
      "cell_type": "code",
      "source": [
        "2nd_number =10 #rakamla başlamamalı\n",
        "total-score =95.5 #sadece alttan tire _\n",
        "if =5 #python ifadesi kullanma"
      ],
      "metadata": {
        "colab": {
          "base_uri": "https://localhost:8080/",
          "height": 106
        },
        "id": "Gtrs2q5f56WA",
        "outputId": "d3d690aa-3527-4e79-be9e-c4df4da34452"
      },
      "execution_count": 32,
      "outputs": [
        {
          "output_type": "error",
          "ename": "SyntaxError",
          "evalue": "invalid decimal literal (<ipython-input-32-08237aa45ae4>, line 1)",
          "traceback": [
            "\u001b[0;36m  File \u001b[0;32m\"<ipython-input-32-08237aa45ae4>\"\u001b[0;36m, line \u001b[0;32m1\u001b[0m\n\u001b[0;31m    2nd_number =10 #rakamla başlamamalı\u001b[0m\n\u001b[0m    ^\u001b[0m\n\u001b[0;31mSyntaxError\u001b[0m\u001b[0;31m:\u001b[0m invalid decimal literal\n"
          ]
        }
      ]
    },
    {
      "cell_type": "code",
      "source": [
        "_sayi = 5\n",
        "print(_sayi)"
      ],
      "metadata": {
        "colab": {
          "base_uri": "https://localhost:8080/"
        },
        "id": "ugkNFPNb6OkT",
        "outputId": "e667bb49-29b9-4c44-c557-0c9e75e86d2f"
      },
      "execution_count": 33,
      "outputs": [
        {
          "output_type": "stream",
          "name": "stdout",
          "text": [
            "5\n"
          ]
        }
      ]
    },
    {
      "cell_type": "code",
      "source": [],
      "metadata": {
        "id": "qP6nZyl66ZUH"
      },
      "execution_count": 33,
      "outputs": []
    },
    {
      "cell_type": "code",
      "source": [],
      "metadata": {
        "id": "968dJBHC5vb_"
      },
      "execution_count": null,
      "outputs": []
    },
    {
      "cell_type": "markdown",
      "source": [
        "İlkel Veri"
      ],
      "metadata": {
        "id": "xf17Ff2C6zXp"
      }
    },
    {
      "cell_type": "code",
      "source": [
        "İlkel"
      ],
      "metadata": {
        "colab": {
          "base_uri": "https://localhost:8080/",
          "height": 141
        },
        "id": "_47AsYXJ66oS",
        "outputId": "755f61bb-1f07-4f36-b8f8-197e8b27e299"
      },
      "execution_count": 34,
      "outputs": [
        {
          "output_type": "error",
          "ename": "NameError",
          "evalue": "name 'İlkel' is not defined",
          "traceback": [
            "\u001b[0;31m---------------------------------------------------------------------------\u001b[0m",
            "\u001b[0;31mNameError\u001b[0m                                 Traceback (most recent call last)",
            "\u001b[0;32m<ipython-input-34-4d485222cfbd>\u001b[0m in \u001b[0;36m<cell line: 0>\u001b[0;34m()\u001b[0m\n\u001b[0;32m----> 1\u001b[0;31m \u001b[0mİlkel\u001b[0m\u001b[0;34m\u001b[0m\u001b[0;34m\u001b[0m\u001b[0m\n\u001b[0m",
            "\u001b[0;31mNameError\u001b[0m: name 'İlkel' is not defined"
          ]
        }
      ]
    },
    {
      "cell_type": "code",
      "source": [
        "ornek_metin = 'Merhaba Dünya'\n",
        "ornek_metin1 = 'Hello World'\n",
        "print(ornek_metin1)"
      ],
      "metadata": {
        "colab": {
          "base_uri": "https://localhost:8080/"
        },
        "id": "WM182Abs6-ol",
        "outputId": "c6687224-6532-45f7-8c88-1a01e1101c7a"
      },
      "execution_count": 37,
      "outputs": [
        {
          "output_type": "stream",
          "name": "stdout",
          "text": [
            "Hello World\n"
          ]
        }
      ]
    },
    {
      "cell_type": "code",
      "source": [
        "print(\"Halkbank'ın python dersine hoşgeldiniz\")"
      ],
      "metadata": {
        "colab": {
          "base_uri": "https://localhost:8080/"
        },
        "id": "D3RxoHQx7a5B",
        "outputId": "c0b7dd09-7f5d-4f37-926f-b688c3bf1662"
      },
      "execution_count": 38,
      "outputs": [
        {
          "output_type": "stream",
          "name": "stdout",
          "text": [
            "Halkbank'ın python dersine hoşgeldiniz\n"
          ]
        }
      ]
    },
    {
      "cell_type": "code",
      "source": [],
      "metadata": {
        "id": "jWgoAYfO8Re5"
      },
      "execution_count": null,
      "outputs": []
    },
    {
      "cell_type": "markdown",
      "source": [
        "type(param) # bir ver, tipinin ne olduğunu bize bildirir\n",
        "\n"
      ],
      "metadata": {
        "id": "s7-G1wBq9DxX"
      }
    },
    {
      "cell_type": "code",
      "source": [
        "print(type(5), type(\"5\"))"
      ],
      "metadata": {
        "colab": {
          "base_uri": "https://localhost:8080/"
        },
        "id": "NCHGjig49Knt",
        "outputId": "4112cb76-c741-49a0-ce06-d7ff42d3b045"
      },
      "execution_count": 39,
      "outputs": [
        {
          "output_type": "stream",
          "name": "stdout",
          "text": [
            "<class 'int'> <class 'str'>\n"
          ]
        }
      ]
    },
    {
      "cell_type": "code",
      "source": [],
      "metadata": {
        "id": "QYvEb-xj9QO-"
      },
      "execution_count": null,
      "outputs": []
    },
    {
      "cell_type": "markdown",
      "source": [
        "###Float Ondalıklı Sayılar"
      ],
      "metadata": {
        "id": "AbhXtVSD9apU"
      }
    },
    {
      "cell_type": "code",
      "source": [
        "ondalikli_sayi =10.2\n",
        "print(ondalikli_sayi + 10)\n",
        "print(type(ondalikli_sayi))\n"
      ],
      "metadata": {
        "colab": {
          "base_uri": "https://localhost:8080/"
        },
        "id": "hyKww0uS9ePz",
        "outputId": "39a543d2-9db7-4357-ab6a-ca0425c7e3a4"
      },
      "execution_count": 40,
      "outputs": [
        {
          "output_type": "stream",
          "name": "stdout",
          "text": [
            "20.2\n",
            "<class 'float'>\n"
          ]
        }
      ]
    },
    {
      "cell_type": "code",
      "source": [],
      "metadata": {
        "id": "zGZqONoD9p5V"
      },
      "execution_count": null,
      "outputs": []
    },
    {
      "cell_type": "markdown",
      "source": [
        "### Complex Sayılar, KArmaşık Sayılar\n"
      ],
      "metadata": {
        "id": "Qygb65Xr9u_D"
      }
    },
    {
      "cell_type": "code",
      "source": [
        "x =4j\n",
        "print(type(x))"
      ],
      "metadata": {
        "colab": {
          "base_uri": "https://localhost:8080/"
        },
        "id": "sk0oAt8x9zby",
        "outputId": "e565b191-346f-45e3-b01c-dc9463009c98"
      },
      "execution_count": 41,
      "outputs": [
        {
          "output_type": "stream",
          "name": "stdout",
          "text": [
            "<class 'complex'>\n"
          ]
        }
      ]
    },
    {
      "cell_type": "code",
      "source": [
        "Boolean (D)"
      ],
      "metadata": {
        "id": "wGPZ4Ede93iv"
      },
      "execution_count": null,
      "outputs": []
    },
    {
      "cell_type": "markdown",
      "source": [
        "## Boolean (doğru veya Yanlış)\n",
        "> Topalamda 2 adet veri vardır\n"
      ],
      "metadata": {
        "id": "ay1kpQ3U97uk"
      }
    },
    {
      "cell_type": "code",
      "source": [
        "is_password_true = True\n",
        "is_student = True\n",
        "\n",
        "print(type(is_password_true))"
      ],
      "metadata": {
        "colab": {
          "base_uri": "https://localhost:8080/"
        },
        "id": "wfj1VWlj-D6o",
        "outputId": "78294fe6-6e12-4c5e-ed04-aed97785cd7d"
      },
      "execution_count": 43,
      "outputs": [
        {
          "output_type": "stream",
          "name": "stdout",
          "text": [
            "<class 'bool'>\n"
          ]
        }
      ]
    },
    {
      "cell_type": "code",
      "source": [
        "## Aritmetik Operatçrler"
      ],
      "metadata": {
        "id": "o2pq-tZk-Ut2"
      },
      "execution_count": null,
      "outputs": []
    },
    {
      "cell_type": "markdown",
      "source": [
        "##Aritmetik Operatörler\n",
        "Pythona matemetiksel işlemler için ifadeler"
      ],
      "metadata": {
        "id": "B1RTE0FZ-h_5"
      }
    },
    {
      "cell_type": "code",
      "source": [
        "print(10+20+20)\n"
      ],
      "metadata": {
        "colab": {
          "base_uri": "https://localhost:8080/"
        },
        "id": "soI7EO8c-pf5",
        "outputId": "990cbba2-ce5a-4eb3-fb5c-8627eca994b1"
      },
      "execution_count": 44,
      "outputs": [
        {
          "output_type": "stream",
          "name": "stdout",
          "text": [
            "50\n"
          ]
        }
      ]
    },
    {
      "cell_type": "code",
      "source": [
        "sayi1 = 5\n",
        "sayi2 =10\n",
        "sonuc =sayi1+sayi2+sayi1\n",
        "print(sonuc)\n"
      ],
      "metadata": {
        "colab": {
          "base_uri": "https://localhost:8080/"
        },
        "id": "6X7TFRPw-uqX",
        "outputId": "b5e526c2-b28d-440d-9e31-818d5e1e423c"
      },
      "execution_count": 46,
      "outputs": [
        {
          "output_type": "stream",
          "name": "stdout",
          "text": [
            "20\n"
          ]
        }
      ]
    },
    {
      "cell_type": "code",
      "source": [
        "on_isim = \"Halk\"\n",
        "ek_isim = \"bank\"\n",
        "print(on_isim+ek_isim)"
      ],
      "metadata": {
        "colab": {
          "base_uri": "https://localhost:8080/"
        },
        "id": "ViGTSERx-6vy",
        "outputId": "eeb61b98-3c61-4f64-d0b1-6338b6582514"
      },
      "execution_count": 47,
      "outputs": [
        {
          "output_type": "stream",
          "name": "stdout",
          "text": [
            "Halkbank\n"
          ]
        }
      ]
    },
    {
      "cell_type": "code",
      "source": [
        "sayi1=10\n",
        "sayi2=5\n",
        "print(sayi1-sayi2)"
      ],
      "metadata": {
        "colab": {
          "base_uri": "https://localhost:8080/"
        },
        "id": "P1xjCzHm_QHu",
        "outputId": "64a9439e-e895-4560-dc23-b331ace1c1cf"
      },
      "execution_count": 48,
      "outputs": [
        {
          "output_type": "stream",
          "name": "stdout",
          "text": [
            "5\n"
          ]
        }
      ]
    },
    {
      "cell_type": "code",
      "source": [
        "print(5-(-3))"
      ],
      "metadata": {
        "colab": {
          "base_uri": "https://localhost:8080/"
        },
        "id": "QBkk19m7_ay7",
        "outputId": "901fda8e-4591-4ca1-c8d8-ae63a355a2d2"
      },
      "execution_count": 49,
      "outputs": [
        {
          "output_type": "stream",
          "name": "stdout",
          "text": [
            "8\n"
          ]
        }
      ]
    },
    {
      "cell_type": "code",
      "source": [
        "print(5*5*5)"
      ],
      "metadata": {
        "colab": {
          "base_uri": "https://localhost:8080/"
        },
        "id": "0P42t_JQ_fS0",
        "outputId": "07609ac1-8ae3-453a-fe26-b70afb39319b"
      },
      "execution_count": 50,
      "outputs": [
        {
          "output_type": "stream",
          "name": "stdout",
          "text": [
            "125\n"
          ]
        }
      ]
    },
    {
      "cell_type": "code",
      "source": [
        "## Bölme"
      ],
      "metadata": {
        "id": "MoFLNHk8_iJ2"
      },
      "execution_count": null,
      "outputs": []
    },
    {
      "cell_type": "markdown",
      "source": [
        "## Bölme\n",
        "* Tek Bölme işareti / tam sonuç verir 5/2 =2.5 ve veri tiği değişir\n",
        "* Çift bölme işareti kullanılırsa\n",
        "* sonuc float"
      ],
      "metadata": {
        "id": "OBtvrSXD_r4V"
      }
    },
    {
      "cell_type": "code",
      "source": [],
      "metadata": {
        "id": "GC4kBIKbADt1"
      },
      "execution_count": null,
      "outputs": []
    },
    {
      "cell_type": "code",
      "source": [
        "sonuc =10/3\n",
        "print(type(sonuc))"
      ],
      "metadata": {
        "colab": {
          "base_uri": "https://localhost:8080/"
        },
        "id": "AhMOY5nX_252",
        "outputId": "de024b95-38f6-4d0f-96e2-1ee4d971031b"
      },
      "execution_count": 51,
      "outputs": [
        {
          "output_type": "stream",
          "name": "stdout",
          "text": [
            "<class 'float'>\n"
          ]
        }
      ]
    },
    {
      "cell_type": "code",
      "source": [
        "print(22/7)\n"
      ],
      "metadata": {
        "colab": {
          "base_uri": "https://localhost:8080/"
        },
        "id": "72HwTZZgAIVz",
        "outputId": "764f6fbc-1516-4d37-d01a-e8ce268bacd6"
      },
      "execution_count": 52,
      "outputs": [
        {
          "output_type": "stream",
          "name": "stdout",
          "text": [
            "3.142857142857143\n"
          ]
        }
      ]
    },
    {
      "cell_type": "code",
      "source": [
        "print(10//3)"
      ],
      "metadata": {
        "colab": {
          "base_uri": "https://localhost:8080/"
        },
        "id": "H6E5JHNbALIN",
        "outputId": "385c4aab-29a8-4ada-8ee8-d4f38bf574ee"
      },
      "execution_count": 53,
      "outputs": [
        {
          "output_type": "stream",
          "name": "stdout",
          "text": [
            "3\n"
          ]
        }
      ]
    },
    {
      "cell_type": "code",
      "source": [],
      "metadata": {
        "id": "yX9Wr9WlAODW"
      },
      "execution_count": null,
      "outputs": []
    },
    {
      "cell_type": "markdown",
      "source": [
        "##Üs Alma"
      ],
      "metadata": {
        "id": "z6zkP1fAAQ3U"
      }
    },
    {
      "cell_type": "code",
      "source": [
        "print(9**2)"
      ],
      "metadata": {
        "colab": {
          "base_uri": "https://localhost:8080/"
        },
        "id": "ERt91o-qATpr",
        "outputId": "66be1325-1224-421a-f837-8d6d5646de1b"
      },
      "execution_count": 54,
      "outputs": [
        {
          "output_type": "stream",
          "name": "stdout",
          "text": [
            "81\n"
          ]
        }
      ]
    },
    {
      "cell_type": "code",
      "source": [
        "print(3**3)"
      ],
      "metadata": {
        "colab": {
          "base_uri": "https://localhost:8080/"
        },
        "id": "sm67T9I8AV5t",
        "outputId": "f49e7a0f-9279-4316-c2fa-285e0f445778"
      },
      "execution_count": 55,
      "outputs": [
        {
          "output_type": "stream",
          "name": "stdout",
          "text": [
            "27\n"
          ]
        }
      ]
    },
    {
      "cell_type": "markdown",
      "source": [
        "####Kök alma"
      ],
      "metadata": {
        "id": "l8sVOWCvAfJp"
      }
    },
    {
      "cell_type": "code",
      "source": [
        "us =1/2\n",
        "print(25**us)"
      ],
      "metadata": {
        "colab": {
          "base_uri": "https://localhost:8080/"
        },
        "id": "V_EGSYowAhwF",
        "outputId": "c850fa99-0c1e-413b-8506-e7e9b3fb483e"
      },
      "execution_count": 56,
      "outputs": [
        {
          "output_type": "stream",
          "name": "stdout",
          "text": [
            "5.0\n"
          ]
        }
      ]
    },
    {
      "cell_type": "code",
      "source": [
        "print(25**0.5)"
      ],
      "metadata": {
        "colab": {
          "base_uri": "https://localhost:8080/"
        },
        "id": "rGAJJJPXAoGf",
        "outputId": "7cecc73b-6501-40e2-88b4-0c72736a1d1b"
      },
      "execution_count": 57,
      "outputs": [
        {
          "output_type": "stream",
          "name": "stdout",
          "text": [
            "5.0\n"
          ]
        }
      ]
    },
    {
      "cell_type": "code",
      "source": [],
      "metadata": {
        "id": "0Mk59Nc8As8k"
      },
      "execution_count": null,
      "outputs": []
    },
    {
      "cell_type": "markdown",
      "source": [
        "##Modüler Aritmetik\n",
        "bir sayının diğer sayıya bölümünden kalanı \"%\""
      ],
      "metadata": {
        "id": "EtUDaBhaA8o7"
      }
    },
    {
      "cell_type": "code",
      "source": [
        "print(5%2)\n"
      ],
      "metadata": {
        "colab": {
          "base_uri": "https://localhost:8080/"
        },
        "id": "LJSaKPs8BDPI",
        "outputId": "02b2be8f-6f67-45c9-b63d-0a2f2f5124da"
      },
      "execution_count": 58,
      "outputs": [
        {
          "output_type": "stream",
          "name": "stdout",
          "text": [
            "1\n"
          ]
        }
      ]
    },
    {
      "cell_type": "code",
      "source": [
        "print(1978239846356972659692%2)"
      ],
      "metadata": {
        "colab": {
          "base_uri": "https://localhost:8080/"
        },
        "id": "QDROog_qBHvf",
        "outputId": "aaf44133-f322-4240-db9a-2089e2e1ffb1"
      },
      "execution_count": 60,
      "outputs": [
        {
          "output_type": "stream",
          "name": "stdout",
          "text": [
            "0\n"
          ]
        }
      ]
    },
    {
      "cell_type": "code",
      "source": [
        "print(\"5\"+\"5\")"
      ],
      "metadata": {
        "colab": {
          "base_uri": "https://localhost:8080/"
        },
        "id": "YSh7c8J3BdOC",
        "outputId": "df9da6f8-b847-491c-c417-b2491530a349"
      },
      "execution_count": 61,
      "outputs": [
        {
          "output_type": "stream",
          "name": "stdout",
          "text": [
            "55\n"
          ]
        }
      ]
    },
    {
      "cell_type": "code",
      "source": [
        "print(\"-\"*40)\n",
        "print(\" \")\n",
        "print(\" \"*10,\"Halkbank\")\n",
        "print(\"-\"*40)"
      ],
      "metadata": {
        "colab": {
          "base_uri": "https://localhost:8080/"
        },
        "id": "IULlrVZ7BlcD",
        "outputId": "012ee506-107c-48bc-889f-a23964fbb62b"
      },
      "execution_count": 63,
      "outputs": [
        {
          "output_type": "stream",
          "name": "stdout",
          "text": [
            "----------------------------------------\n",
            " \n",
            "           Halkbank\n",
            "----------------------------------------\n"
          ]
        }
      ]
    },
    {
      "cell_type": "code",
      "source": [
        "###"
      ],
      "metadata": {
        "id": "DXIWQ0H-B5Td"
      },
      "execution_count": null,
      "outputs": []
    },
    {
      "cell_type": "markdown",
      "source": [
        "##Aritmetik Operatorler Örnek\n",
        "Değişken kullanarak Vize final notu ortalaması hesaplayan bir program yazalım\n",
        "3 not var vize1 vize2 ve final\n",
        "vize1 yüzde 30\n",
        "vize2 yüzde 20\n",
        "final yüzde 50\n",
        "kişinin ortalamasını\n",
        "vize1 =90\n",
        "vize2 =85\n",
        "final =45"
      ],
      "metadata": {
        "id": "6myZej5uCNej"
      }
    },
    {
      "cell_type": "code",
      "source": [
        "vize1=90\n",
        "vize2=85\n",
        "final=45\n",
        "ort = (vize1*30/100)+(vize2*20/100)+(final*50/100)\n",
        "ortson=ort/50\n",
        "print(ort)"
      ],
      "metadata": {
        "colab": {
          "base_uri": "https://localhost:8080/"
        },
        "id": "4hAPAhHnCj1e",
        "outputId": "e5e75b13-0a3b-474f-f3e3-f7adfc241f7a"
      },
      "execution_count": 67,
      "outputs": [
        {
          "output_type": "stream",
          "name": "stdout",
          "text": [
            "66.5\n"
          ]
        }
      ]
    },
    {
      "cell_type": "code",
      "source": [],
      "metadata": {
        "id": "0dOruBtuFvzd"
      },
      "execution_count": null,
      "outputs": []
    },
    {
      "cell_type": "markdown",
      "source": [
        "#### Örnek\n",
        "tabanı 5 yüksekliği 10 olan bir üçgenin alanı kaçtır ?\n",
        "algoritmik olarak hesaplayınız\n",
        "alan =(taban*yükseklik)/2"
      ],
      "metadata": {
        "id": "u_MAD2UyHZzH"
      }
    },
    {
      "cell_type": "code",
      "source": [
        "taban =5\n",
        "yukseklik=10\n",
        "alan=taban*yukseklik/2\n",
        "print(alan)"
      ],
      "metadata": {
        "colab": {
          "base_uri": "https://localhost:8080/"
        },
        "id": "huD7C4LVHo6Y",
        "outputId": "7922b064-6c2d-41a2-a58f-796db8d273f0"
      },
      "execution_count": 68,
      "outputs": [
        {
          "output_type": "stream",
          "name": "stdout",
          "text": [
            "25.0\n"
          ]
        }
      ]
    },
    {
      "cell_type": "code",
      "source": [],
      "metadata": {
        "id": "6eLYFlzyH0VG"
      },
      "execution_count": null,
      "outputs": []
    },
    {
      "cell_type": "markdown",
      "source": [
        "####Atama Operatörleri"
      ],
      "metadata": {
        "id": "qiq0j8t8JRYk"
      }
    },
    {
      "cell_type": "code",
      "source": [
        "ornek =\"python\"\n",
        "ornek=\"js\"\n",
        "print(ornek)"
      ],
      "metadata": {
        "colab": {
          "base_uri": "https://localhost:8080/"
        },
        "id": "RjElMa7jJUqG",
        "outputId": "4045561d-cd4f-4174-fcd3-24c32d8c1809"
      },
      "execution_count": 69,
      "outputs": [
        {
          "output_type": "stream",
          "name": "stdout",
          "text": [
            "js\n"
          ]
        }
      ]
    },
    {
      "cell_type": "code",
      "source": [
        "ortalama_sayi = 10\n",
        "ortalama_sayi =12\n",
        "print(ortalama_sayi)"
      ],
      "metadata": {
        "colab": {
          "base_uri": "https://localhost:8080/"
        },
        "id": "-n7pxvqHJoj3",
        "outputId": "ccff6bbe-d706-49e5-cf98-60e9a55fe37e"
      },
      "execution_count": 70,
      "outputs": [
        {
          "output_type": "stream",
          "name": "stdout",
          "text": [
            "12\n"
          ]
        }
      ]
    },
    {
      "cell_type": "code",
      "source": [
        "ortalama_sayi = 11\n",
        "ortalama_sayi = ortalama_sayi+2\n",
        "print(ortalama_sayi)\n"
      ],
      "metadata": {
        "colab": {
          "base_uri": "https://localhost:8080/"
        },
        "id": "FtE8yUUuJycH",
        "outputId": "79eea19a-63ce-4492-a737-86d7e8dfb523"
      },
      "execution_count": 71,
      "outputs": [
        {
          "output_type": "stream",
          "name": "stdout",
          "text": [
            "13\n"
          ]
        }
      ]
    },
    {
      "cell_type": "code",
      "source": [
        "ortalama_sayi = 11\n",
        "ortalama_sayi += 5\n",
        "print(ortalama_sayi)\n"
      ],
      "metadata": {
        "colab": {
          "base_uri": "https://localhost:8080/"
        },
        "id": "S2jJemQoKNOR",
        "outputId": "4f1ce534-ab28-47d0-de4c-0f065b8cf87e"
      },
      "execution_count": 72,
      "outputs": [
        {
          "output_type": "stream",
          "name": "stdout",
          "text": [
            "16\n"
          ]
        }
      ]
    },
    {
      "cell_type": "code",
      "source": [
        "aile = 0;\n",
        "aile += 2\n",
        "aile += 3\n",
        "aile += 7\n",
        "aile -= 2\n",
        "print(aile)\n",
        "kisi_sayisi = aile*4\n",
        "print(kisi_sayisi)"
      ],
      "metadata": {
        "colab": {
          "base_uri": "https://localhost:8080/"
        },
        "id": "OW7vDbMLKnhP",
        "outputId": "131ecfd1-cdcf-4537-9347-5b115e93b56a"
      },
      "execution_count": 75,
      "outputs": [
        {
          "output_type": "stream",
          "name": "stdout",
          "text": [
            "10\n",
            "40\n"
          ]
        }
      ]
    },
    {
      "cell_type": "code",
      "source": [
        "z = 5\n",
        "z*=2\n",
        "z*=2\n",
        "z*=2\n",
        "z*=2\n",
        "z/=2\n",
        "z/=2\n",
        "print(z)"
      ],
      "metadata": {
        "colab": {
          "base_uri": "https://localhost:8080/"
        },
        "id": "o-DmBen6LtKC",
        "outputId": "26f1ffdf-1a87-4d60-cd69-2cc134791d1d"
      },
      "execution_count": 79,
      "outputs": [
        {
          "output_type": "stream",
          "name": "stdout",
          "text": [
            "20.0\n"
          ]
        }
      ]
    },
    {
      "cell_type": "code",
      "source": [
        "##"
      ],
      "metadata": {
        "id": "ZMxlMQgVL68g"
      },
      "execution_count": null,
      "outputs": []
    },
    {
      "cell_type": "markdown",
      "source": [
        "##Built-in Fonksiyonlar\n",
        "Herhangi bir kütüphane veya ek kurulum yapmadan erişebilen gömülü fonksiyonlar\n",
        "\n"
      ],
      "metadata": {
        "id": "QEsKKS5dfKjj"
      }
    },
    {
      "cell_type": "code",
      "source": [],
      "metadata": {
        "id": "tmeUZYByfZSu"
      },
      "execution_count": null,
      "outputs": []
    },
    {
      "cell_type": "markdown",
      "source": [
        "* Kullanıcı ile etkileşim sağlar.\n",
        "* Kullanıcan veri almaya yarar\n",
        "* Kullanıcadan alınan veri her zaman string tir\n"
      ],
      "metadata": {
        "id": "yADfRcVwfnaP"
      }
    },
    {
      "cell_type": "code",
      "source": [
        "sayi=input(\"Lütfen bir sayı giriniz : \")\n",
        "print(sayi)\n",
        "print(type(sayi))"
      ],
      "metadata": {
        "colab": {
          "base_uri": "https://localhost:8080/"
        },
        "id": "MWey5Ylsf3lB",
        "outputId": "8518ed75-ef02-4e7a-f912-b24ab9c2c68c"
      },
      "execution_count": 82,
      "outputs": [
        {
          "output_type": "stream",
          "name": "stdout",
          "text": [
            "Lütfen bir sayı giriniz : 12\n",
            "12\n",
            "<class 'str'>\n"
          ]
        }
      ]
    },
    {
      "cell_type": "code",
      "source": [
        "veri1=input(\"Lütfen bir sayı giriniz : \")\n",
        "veri2=input(\"Lütfen bir sayı daha giriniz : \")\n",
        "toplam = int(veri1) + int(veri2)\n",
        "print(\"Girilen sayıların\",veri1,veri2,\"Girdiğiniz sayıların toplamı : \",toplam)"
      ],
      "metadata": {
        "colab": {
          "base_uri": "https://localhost:8080/"
        },
        "id": "RdV5sesBgRCu",
        "outputId": "2358d799-ad71-47f1-8186-38bff6d93c86"
      },
      "execution_count": 84,
      "outputs": [
        {
          "output_type": "stream",
          "name": "stdout",
          "text": [
            "Lütfen bir sayı giriniz : 10\n",
            "Lütfen bir sayı daha giriniz : 10\n",
            "Girilen sayıların 10 10 Girdiğiniz sayıların toplamı :  20\n"
          ]
        }
      ]
    },
    {
      "cell_type": "code",
      "source": [
        "vize1 = int(input(\"Lütfen vize 1 notunu giriniz: \"))\n",
        "vize2 =int(input(\"Lütfen vize 2 notunu giriniz : \"))\n",
        "final = int(input(\"Lütfen final notunu giriniz : \"))\n",
        "ortalama = (vize1 * 0.3)+(vize2 * 0.2)+(final *0.5)\n",
        "print(\"Ortalama notunuz\", ortalama)"
      ],
      "metadata": {
        "colab": {
          "base_uri": "https://localhost:8080/"
        },
        "id": "BDnFUcpqhcJI",
        "outputId": "8c1f5ed2-2a18-4f87-c69a-fabdae437b09"
      },
      "execution_count": 87,
      "outputs": [
        {
          "output_type": "stream",
          "name": "stdout",
          "text": [
            "Lütfen vize 1 notunu giriniz: 50\n",
            "Lütfen vize 2 notunu giriniz : 60\n",
            "Lütfen final notunu giriniz : 70\n",
            "Ortalama notunuz 62.0\n"
          ]
        }
      ]
    },
    {
      "cell_type": "code",
      "source": [],
      "metadata": {
        "id": "vlts0WhBiov6"
      },
      "execution_count": null,
      "outputs": []
    },
    {
      "cell_type": "markdown",
      "source": [
        "##Round(yuvarkanmak istenen sayı,virgğlden sonra kaç basamak)"
      ],
      "metadata": {
        "id": "SrmpW6EBitWR"
      }
    },
    {
      "cell_type": "code",
      "source": [
        "pi = 22/7\n",
        "print(pi)"
      ],
      "metadata": {
        "colab": {
          "base_uri": "https://localhost:8080/"
        },
        "id": "SqpmVTdZi1QE",
        "outputId": "5c6d138e-3746-47f2-b342-2268f40d0699"
      },
      "execution_count": 88,
      "outputs": [
        {
          "output_type": "stream",
          "name": "stdout",
          "text": [
            "3.142857142857143\n"
          ]
        }
      ]
    },
    {
      "cell_type": "code",
      "source": [
        "print(round(pi,2))"
      ],
      "metadata": {
        "colab": {
          "base_uri": "https://localhost:8080/"
        },
        "id": "gWLZjRg6i6ok",
        "outputId": "418248a5-fb40-413a-835b-1f0a436606df"
      },
      "execution_count": 89,
      "outputs": [
        {
          "output_type": "stream",
          "name": "stdout",
          "text": [
            "3.14\n"
          ]
        }
      ]
    },
    {
      "cell_type": "code",
      "source": [
        "print(round(pi,4))"
      ],
      "metadata": {
        "colab": {
          "base_uri": "https://localhost:8080/"
        },
        "id": "PLc8yw-hi9TN",
        "outputId": "48a4ca1d-76b3-4292-fdeb-1ccb27bf89dd"
      },
      "execution_count": 90,
      "outputs": [
        {
          "output_type": "stream",
          "name": "stdout",
          "text": [
            "3.1429\n"
          ]
        }
      ]
    },
    {
      "cell_type": "code",
      "source": [
        "print(round(3.5))"
      ],
      "metadata": {
        "colab": {
          "base_uri": "https://localhost:8080/"
        },
        "id": "wtumXVepi_5o",
        "outputId": "6a4c93e1-f27e-4f67-d4c4-245ee2385cd9"
      },
      "execution_count": 91,
      "outputs": [
        {
          "output_type": "stream",
          "name": "stdout",
          "text": [
            "4\n"
          ]
        }
      ]
    },
    {
      "cell_type": "code",
      "source": [
        "print(round(3.4))"
      ],
      "metadata": {
        "colab": {
          "base_uri": "https://localhost:8080/"
        },
        "id": "6aLgDJeZjKFo",
        "outputId": "8f1abed3-645a-4f79-c932-ce2851b10688"
      },
      "execution_count": 92,
      "outputs": [
        {
          "output_type": "stream",
          "name": "stdout",
          "text": [
            "3\n"
          ]
        }
      ]
    },
    {
      "cell_type": "code",
      "source": [],
      "metadata": {
        "id": "_hQhJmVxjNDf"
      },
      "execution_count": null,
      "outputs": []
    },
    {
      "cell_type": "markdown",
      "source": [
        "### LEN() length\n",
        "bir metnin veya listenin uzunluğunu verir\n"
      ],
      "metadata": {
        "id": "z_j_hAizjOD6"
      }
    },
    {
      "cell_type": "code",
      "source": [
        "print(len(\"Halkbank\"))"
      ],
      "metadata": {
        "colab": {
          "base_uri": "https://localhost:8080/"
        },
        "id": "UBAhwN9TjUey",
        "outputId": "cadef818-be0c-4386-eb04-cdb2509e9bef"
      },
      "execution_count": 93,
      "outputs": [
        {
          "output_type": "stream",
          "name": "stdout",
          "text": [
            "8\n"
          ]
        }
      ]
    },
    {
      "cell_type": "code",
      "source": [
        "paragraf =\"\"\"lorem ipsum lorem ispum\"\"\"\n",
        "len(paragraf)"
      ],
      "metadata": {
        "colab": {
          "base_uri": "https://localhost:8080/"
        },
        "id": "fR224fr_jXxA",
        "outputId": "39a8e661-b060-4577-fba7-952de2322a2a"
      },
      "execution_count": 96,
      "outputs": [
        {
          "output_type": "execute_result",
          "data": {
            "text/plain": [
              "23"
            ]
          },
          "metadata": {},
          "execution_count": 96
        }
      ]
    },
    {
      "cell_type": "code",
      "source": [],
      "metadata": {
        "id": "uwvzTF2mjtMl"
      },
      "execution_count": null,
      "outputs": []
    },
    {
      "cell_type": "markdown",
      "source": [
        "### POW()\n",
        "'''python\n",
        "pow(üssü alınacak sayı, üs ve kuvvet)"
      ],
      "metadata": {
        "id": "WOLuDnQzjy1A"
      }
    },
    {
      "cell_type": "code",
      "source": [
        "pow(10,3)"
      ],
      "metadata": {
        "colab": {
          "base_uri": "https://localhost:8080/"
        },
        "id": "AjMDsC_aj-G9",
        "outputId": "fb37a7d1-6f62-45bb-be19-05e09cc06882"
      },
      "execution_count": 97,
      "outputs": [
        {
          "output_type": "execute_result",
          "data": {
            "text/plain": [
              "1000"
            ]
          },
          "metadata": {},
          "execution_count": 97
        }
      ]
    },
    {
      "cell_type": "code",
      "source": [
        "pow(25,1/2)"
      ],
      "metadata": {
        "colab": {
          "base_uri": "https://localhost:8080/"
        },
        "id": "m6OPio_jj_87",
        "outputId": "239e7c22-68e4-44e9-d155-ce0a8aef1f53"
      },
      "execution_count": 98,
      "outputs": [
        {
          "output_type": "execute_result",
          "data": {
            "text/plain": [
              "5.0"
            ]
          },
          "metadata": {},
          "execution_count": 98
        }
      ]
    },
    {
      "cell_type": "code",
      "source": [
        "25**(1/2)"
      ],
      "metadata": {
        "colab": {
          "base_uri": "https://localhost:8080/"
        },
        "id": "EGW6ETnQkD3C",
        "outputId": "e06e6184-be97-4cfa-fc7f-b97f12b82951"
      },
      "execution_count": 99,
      "outputs": [
        {
          "output_type": "execute_result",
          "data": {
            "text/plain": [
              "5.0"
            ]
          },
          "metadata": {},
          "execution_count": 99
        }
      ]
    },
    {
      "cell_type": "code",
      "source": [],
      "metadata": {
        "id": "m0MvE-vYkJbr"
      },
      "execution_count": null,
      "outputs": []
    },
    {
      "cell_type": "markdown",
      "source": [
        "##Genel Örnek\n",
        "-kullanıcaıdan 3 veri alacağız\n",
        "-isim soyisim ve doğum yılı olucak\n",
        "--Dogum yılı ile yaşını hesaplayacağız\n",
        "--ve isim uzunluğunu hesaplayacağız"
      ],
      "metadata": {
        "id": "7Jn43mF_kL7Y"
      }
    },
    {
      "cell_type": "code",
      "source": [
        "isim=input(\"Lütfen adınızı giriniz\")\n",
        "soyisim = input(\"Lütfen soyisminizi giriniz\")\n",
        "dogum = input(\"Lütfen doğum yılınızı giriniz\")\n",
        "dogum =int(dogum)\n",
        "gunumuz = 2025\n",
        "yas = gunumuz - dogum\n",
        "\n",
        "print(\"Hosgeldiniz\",isim, soyisim,yas, \"yaşındasınız\")\n",
        "\n",
        "uzunluk =len(isim+soyisim)\n",
        "print(\"İsim soyismimiz\",uzunluk, \"uzunlugunda\")"
      ],
      "metadata": {
        "colab": {
          "base_uri": "https://localhost:8080/"
        },
        "id": "ztZx5exHkbPp",
        "outputId": "7ff8b352-e740-4b41-933d-07cf7b1133e9"
      },
      "execution_count": 101,
      "outputs": [
        {
          "output_type": "stream",
          "name": "stdout",
          "text": [
            "Lütfen adınızı girinizAylin\n",
            "Lütfen soyisminizi girinizTekinkuş\n",
            "Lütfen doğum yılınızı giriniz1991\n",
            "Hosgeldiniz Aylin Tekinkuş 34 yaşındasınız\n",
            "İsim soyismimiz 13 uzunlugunda\n"
          ]
        }
      ]
    },
    {
      "cell_type": "markdown",
      "source": [
        "## STRINGLER, KARAKTER DIZILERİ, DIZELER\n"
      ],
      "metadata": {
        "id": "X-ftjTU0lX3g"
      }
    },
    {
      "cell_type": "markdown",
      "source": [
        "# metin birleştirme +\n",
        "#metin çokalama *"
      ],
      "metadata": {
        "id": "58GFP5GQlnVo"
      }
    },
    {
      "cell_type": "code",
      "source": [
        "print(\"Merhaba\"+\"Halkbank\"+\"Python\"+\"Eğitimi\")"
      ],
      "metadata": {
        "colab": {
          "base_uri": "https://localhost:8080/"
        },
        "id": "UuqCYYvKlsg6",
        "outputId": "5596bb4c-56c1-45e3-d27e-eb71e3651f48"
      },
      "execution_count": 102,
      "outputs": [
        {
          "output_type": "stream",
          "name": "stdout",
          "text": [
            "MerhabaHalkbankPythonEğitimi\n"
          ]
        }
      ]
    },
    {
      "cell_type": "code",
      "source": [
        "print(\"-\"*500)"
      ],
      "metadata": {
        "colab": {
          "base_uri": "https://localhost:8080/"
        },
        "id": "2V9CMFAkl04R",
        "outputId": "19754a3a-74e1-4aa5-b3c0-848a8e1b9c22"
      },
      "execution_count": 103,
      "outputs": [
        {
          "output_type": "stream",
          "name": "stdout",
          "text": [
            "--------------------------------------------------------------------------------------------------------------------------------------------------------------------------------------------------------------------------------------------------------------------------------------------------------------------------------------------------------------------------------------------------------------------------------------------------------------------------------------------------------------------\n"
          ]
        }
      ]
    },
    {
      "cell_type": "code",
      "source": [
        "\"\"\"\n",
        "qeweqw\n",
        "\"\"\""
      ],
      "metadata": {
        "colab": {
          "base_uri": "https://localhost:8080/",
          "height": 35
        },
        "id": "540xaGcfl5zi",
        "outputId": "7bb61e8d-b66d-46ad-c2e8-67f0f91f2298"
      },
      "execution_count": 104,
      "outputs": [
        {
          "output_type": "execute_result",
          "data": {
            "text/plain": [
              "'\\nqeweqw\\n'"
            ],
            "application/vnd.google.colaboratory.intrinsic+json": {
              "type": "string"
            }
          },
          "metadata": {},
          "execution_count": 104
        }
      ]
    },
    {
      "cell_type": "code",
      "source": [
        "print(\"\"\"qewew\n",
        "\"\"\")"
      ],
      "metadata": {
        "colab": {
          "base_uri": "https://localhost:8080/"
        },
        "id": "ATqdyffzmFxw",
        "outputId": "62423b1e-f1bf-45ef-e4d8-eae61d653bfb"
      },
      "execution_count": 105,
      "outputs": [
        {
          "output_type": "stream",
          "name": "stdout",
          "text": [
            "qewew\n",
            "\n"
          ]
        }
      ]
    },
    {
      "cell_type": "markdown",
      "source": [
        "##Kaçış Dizesi"
      ],
      "metadata": {
        "id": "uZwf5MVEmNEt"
      }
    },
    {
      "cell_type": "code",
      "source": [
        "#\\n\n",
        "print(\"Halk\\nBank\")"
      ],
      "metadata": {
        "colab": {
          "base_uri": "https://localhost:8080/"
        },
        "id": "oDTvZTQemPve",
        "outputId": "168eb2d6-784b-4567-818e-5f3db193907b"
      },
      "execution_count": 106,
      "outputs": [
        {
          "output_type": "stream",
          "name": "stdout",
          "text": [
            "Halk\n",
            "Bank\n"
          ]
        }
      ]
    },
    {
      "cell_type": "code",
      "source": [
        "# \\t\n",
        "print(\"MUST_NO\\t\\tMEVDUAT\")\n",
        "print(\"99999\\t\\t22 M\")"
      ],
      "metadata": {
        "colab": {
          "base_uri": "https://localhost:8080/"
        },
        "id": "qOKPROOcmTNC",
        "outputId": "2c42c2ca-8e67-4104-80ee-efefb4fcb850"
      },
      "execution_count": 108,
      "outputs": [
        {
          "output_type": "stream",
          "name": "stdout",
          "text": [
            "MUST_NO\t\tMEVDUAT\n",
            "99999\t\t22 M\n"
          ]
        }
      ]
    },
    {
      "cell_type": "markdown",
      "source": [
        "##Kaçış dizelerinden kaçmak"
      ],
      "metadata": {
        "id": "Iq0tlo24mvK9"
      }
    },
    {
      "cell_type": "code",
      "source": [
        "ortak_klasor = \"m:\\\\nushalar\"\n",
        "print(ortak_klasor)\n"
      ],
      "metadata": {
        "colab": {
          "base_uri": "https://localhost:8080/"
        },
        "id": "0bQsi0Fimx17",
        "outputId": "79215813-f081-4d06-c1ed-cfa49d0d88d9"
      },
      "execution_count": 111,
      "outputs": [
        {
          "output_type": "stream",
          "name": "stdout",
          "text": [
            "m:\\nushalar\n"
          ]
        }
      ]
    },
    {
      "cell_type": "markdown",
      "source": [
        "#Dilimleme Slicing\n",
        "#"
      ],
      "metadata": {
        "id": "d_LGf89OnH6e"
      }
    },
    {
      "cell_type": "code",
      "source": [
        "metin = \"Halkbank\"\n",
        "metin"
      ],
      "metadata": {
        "colab": {
          "base_uri": "https://localhost:8080/",
          "height": 35
        },
        "id": "lWdMBzGHnM44",
        "outputId": "0516ce6c-bed1-4d72-e2de-bcb650802e95"
      },
      "execution_count": 112,
      "outputs": [
        {
          "output_type": "execute_result",
          "data": {
            "text/plain": [
              "'Halkbank'"
            ],
            "application/vnd.google.colaboratory.intrinsic+json": {
              "type": "string"
            }
          },
          "metadata": {},
          "execution_count": 112
        }
      ]
    },
    {
      "cell_type": "markdown",
      "source": [
        "- LUA veya SQL dışındaki dillerin çoğu sıfırdan saymaya başlar\n",
        "- HALKBANK\n",
        "- 01234567"
      ],
      "metadata": {
        "id": "AtPWAu91nUjC"
      }
    },
    {
      "cell_type": "code",
      "source": [
        "print(metin[0])"
      ],
      "metadata": {
        "colab": {
          "base_uri": "https://localhost:8080/"
        },
        "id": "x7pxFbg3ni66",
        "outputId": "7662b459-cf44-4773-ad3b-89d662616ceb"
      },
      "execution_count": 113,
      "outputs": [
        {
          "output_type": "stream",
          "name": "stdout",
          "text": [
            "H\n"
          ]
        }
      ]
    },
    {
      "cell_type": "code",
      "source": [
        "print(metin[7])"
      ],
      "metadata": {
        "colab": {
          "base_uri": "https://localhost:8080/"
        },
        "id": "Yze7FNqfnvyu",
        "outputId": "e0abaeac-0d68-4ce5-8a61-1daccadc4ebe"
      },
      "execution_count": 114,
      "outputs": [
        {
          "output_type": "stream",
          "name": "stdout",
          "text": [
            "k\n"
          ]
        }
      ]
    },
    {
      "cell_type": "code",
      "source": [
        "son_harf_index = len(metin)-1\n",
        "print(metin[son_harf_index])"
      ],
      "metadata": {
        "colab": {
          "base_uri": "https://localhost:8080/"
        },
        "id": "OTRKtqCwnygO",
        "outputId": "d1818239-e278-4c77-f90f-bf13f8ccb546"
      },
      "execution_count": 116,
      "outputs": [
        {
          "output_type": "stream",
          "name": "stdout",
          "text": [
            "k\n"
          ]
        }
      ]
    },
    {
      "cell_type": "code",
      "source": [
        "metin[-1]"
      ],
      "metadata": {
        "colab": {
          "base_uri": "https://localhost:8080/",
          "height": 35
        },
        "id": "U_qM5zGOoEdo",
        "outputId": "fea1e22b-3b50-4086-b38d-6ace6cfe9901"
      },
      "execution_count": 117,
      "outputs": [
        {
          "output_type": "execute_result",
          "data": {
            "text/plain": [
              "'k'"
            ],
            "application/vnd.google.colaboratory.intrinsic+json": {
              "type": "string"
            }
          },
          "metadata": {},
          "execution_count": 117
        }
      ]
    },
    {
      "cell_type": "code",
      "source": [
        "metin[2]"
      ],
      "metadata": {
        "colab": {
          "base_uri": "https://localhost:8080/",
          "height": 35
        },
        "id": "lJxUcqAnoGJV",
        "outputId": "51e15381-563c-4c20-ef86-88d7c5a605f3"
      },
      "execution_count": 118,
      "outputs": [
        {
          "output_type": "execute_result",
          "data": {
            "text/plain": [
              "'l'"
            ],
            "application/vnd.google.colaboratory.intrinsic+json": {
              "type": "string"
            }
          },
          "metadata": {},
          "execution_count": 118
        }
      ]
    },
    {
      "cell_type": "markdown",
      "source": [
        "##### metin[baslangic:bitis]\n",
        "* slicing işlemlerinde son karakter dahil değildir"
      ],
      "metadata": {
        "id": "fG4_qUutoMdz"
      }
    },
    {
      "cell_type": "code",
      "source": [
        "metin[0:4]"
      ],
      "metadata": {
        "colab": {
          "base_uri": "https://localhost:8080/",
          "height": 35
        },
        "id": "RsnACRu8omeW",
        "outputId": "33c70f11-76ce-4849-f065-fd42299b0352"
      },
      "execution_count": 119,
      "outputs": [
        {
          "output_type": "execute_result",
          "data": {
            "text/plain": [
              "'Halk'"
            ],
            "application/vnd.google.colaboratory.intrinsic+json": {
              "type": "string"
            }
          },
          "metadata": {},
          "execution_count": 119
        }
      ]
    },
    {
      "cell_type": "code",
      "source": [
        "metin[4:]"
      ],
      "metadata": {
        "colab": {
          "base_uri": "https://localhost:8080/",
          "height": 35
        },
        "id": "8-dhMMMjopBF",
        "outputId": "67962979-74c4-4f66-dd97-ad192e4edf20"
      },
      "execution_count": 120,
      "outputs": [
        {
          "output_type": "execute_result",
          "data": {
            "text/plain": [
              "'bank'"
            ],
            "application/vnd.google.colaboratory.intrinsic+json": {
              "type": "string"
            }
          },
          "metadata": {},
          "execution_count": 120
        }
      ]
    },
    {
      "cell_type": "code",
      "source": [
        "metin[4:6]"
      ],
      "metadata": {
        "colab": {
          "base_uri": "https://localhost:8080/",
          "height": 35
        },
        "id": "_G_7zKefouRI",
        "outputId": "05687f2d-3fd3-4726-b5b7-534141ad4377"
      },
      "execution_count": 121,
      "outputs": [
        {
          "output_type": "execute_result",
          "data": {
            "text/plain": [
              "'ba'"
            ],
            "application/vnd.google.colaboratory.intrinsic+json": {
              "type": "string"
            }
          },
          "metadata": {},
          "execution_count": 121
        }
      ]
    },
    {
      "cell_type": "code",
      "source": [
        "metin[:]"
      ],
      "metadata": {
        "colab": {
          "base_uri": "https://localhost:8080/",
          "height": 35
        },
        "id": "P8QLKUGwpKPA",
        "outputId": "d98c4cbb-c40d-400c-e361-0cfcdc0f61f2"
      },
      "execution_count": 122,
      "outputs": [
        {
          "output_type": "execute_result",
          "data": {
            "text/plain": [
              "'Halkbank'"
            ],
            "application/vnd.google.colaboratory.intrinsic+json": {
              "type": "string"
            }
          },
          "metadata": {},
          "execution_count": 122
        }
      ]
    },
    {
      "cell_type": "markdown",
      "source": [
        "\n",
        "### metin[baslangic:bitis:adim] adım atlama adımı atlaraya git demek kaçar kaçar atlayarak gideceği\n"
      ],
      "metadata": {
        "id": "GdJMUPqmpZZm"
      }
    },
    {
      "cell_type": "code",
      "source": [],
      "metadata": {
        "id": "WaZtc-_vqGom"
      },
      "execution_count": null,
      "outputs": []
    },
    {
      "cell_type": "code",
      "source": [
        "metin_hatali =\"H0A0L0K0B0A0N0K\"\n",
        "metin_hatali[::2]"
      ],
      "metadata": {
        "colab": {
          "base_uri": "https://localhost:8080/",
          "height": 35
        },
        "id": "Rwms2VX_pks6",
        "outputId": "95b5e0af-809b-4e1e-ea3f-be834ab2b4b4"
      },
      "execution_count": 123,
      "outputs": [
        {
          "output_type": "execute_result",
          "data": {
            "text/plain": [
              "'HALKBANK'"
            ],
            "application/vnd.google.colaboratory.intrinsic+json": {
              "type": "string"
            }
          },
          "metadata": {},
          "execution_count": 123
        }
      ]
    },
    {
      "cell_type": "markdown",
      "source": [
        "##\"STRING\".lower()"
      ],
      "metadata": {
        "id": "dMx-kpmBvjzf"
      }
    },
    {
      "cell_type": "code",
      "source": [
        "name = \"Gandalf\"\n",
        "age = 3000\n",
        "metin =\"Hoşgeldiniz, {} yaşındaki {}\".format(age,name)\n",
        "print(metin)"
      ],
      "metadata": {
        "colab": {
          "base_uri": "https://localhost:8080/"
        },
        "id": "dJJHnmEfvm5d",
        "outputId": "76f00c50-d6f8-405a-ee16-fbcc24620a9c"
      },
      "execution_count": 126,
      "outputs": [
        {
          "output_type": "stream",
          "name": "stdout",
          "text": [
            "Hoşgeldiniz, 3000 yaşındaki Gandalf\n"
          ]
        }
      ]
    },
    {
      "cell_type": "code",
      "source": [],
      "metadata": {
        "id": "tsqikoO-v455"
      },
      "execution_count": null,
      "outputs": []
    },
    {
      "cell_type": "markdown",
      "source": [
        "### F-STRING"
      ],
      "metadata": {
        "id": "f0Go1b5Xv8B9"
      }
    },
    {
      "cell_type": "code",
      "source": [
        "org =\"HLKBnk\"\n",
        "name =\"Burak\"\n",
        "pos = \"Uzman\"\n",
        "\n",
        "print(f\"\"\"\n",
        "Kurum Adı : {org})\n",
        "Kişi Adı: {name}\n",
        "      Pozisyon : {pos}\"\"\")"
      ],
      "metadata": {
        "colab": {
          "base_uri": "https://localhost:8080/"
        },
        "id": "XoWEiuG5v-U7",
        "outputId": "76ad03f1-ede6-40c5-ce18-b9ca159911fc"
      },
      "execution_count": 128,
      "outputs": [
        {
          "output_type": "stream",
          "name": "stdout",
          "text": [
            "\n",
            "Kurum Adı : HLKBnk)\n",
            "Kişi Adı: Burak\n",
            "      Pozisyon : Uzman\n"
          ]
        }
      ]
    },
    {
      "cell_type": "code",
      "source": [],
      "metadata": {
        "id": "D2-6hjiAwaua"
      },
      "execution_count": null,
      "outputs": []
    },
    {
      "cell_type": "markdown",
      "source": [
        "##String Meottları"
      ],
      "metadata": {
        "id": "MZmNbZD5wdCK"
      }
    },
    {
      "cell_type": "code",
      "source": [
        "yazi =\"KamaŞIK\"\n",
        "print(yazi.lower())"
      ],
      "metadata": {
        "colab": {
          "base_uri": "https://localhost:8080/"
        },
        "id": "GqXe_219wgPV",
        "outputId": "1d31e1ae-491f-4311-e35d-57dfc80b1b29"
      },
      "execution_count": 129,
      "outputs": [
        {
          "output_type": "stream",
          "name": "stdout",
          "text": [
            "kamaşik\n"
          ]
        }
      ]
    },
    {
      "cell_type": "code",
      "source": [
        "#upper() bütün harfleri büyük\n",
        "yazi.upper()"
      ],
      "metadata": {
        "colab": {
          "base_uri": "https://localhost:8080/",
          "height": 35
        },
        "id": "2pgINjLCwmrD",
        "outputId": "2e620502-4726-416a-c0da-cf488a167ee3"
      },
      "execution_count": 130,
      "outputs": [
        {
          "output_type": "execute_result",
          "data": {
            "text/plain": [
              "'KAMAŞIK'"
            ],
            "application/vnd.google.colaboratory.intrinsic+json": {
              "type": "string"
            }
          },
          "metadata": {},
          "execution_count": 130
        }
      ]
    },
    {
      "cell_type": "code",
      "source": [
        "#capitalize() sadece ilk harfi büyütür\n",
        "\"halkbankası\".capitalize()"
      ],
      "metadata": {
        "colab": {
          "base_uri": "https://localhost:8080/",
          "height": 35
        },
        "id": "DyebW_yYwrd3",
        "outputId": "0fde32cb-abe8-4352-aa18-15d0a4b1a8d9"
      },
      "execution_count": 131,
      "outputs": [
        {
          "output_type": "execute_result",
          "data": {
            "text/plain": [
              "'Halkbankası'"
            ],
            "application/vnd.google.colaboratory.intrinsic+json": {
              "type": "string"
            }
          },
          "metadata": {},
          "execution_count": 131
        }
      ]
    },
    {
      "cell_type": "code",
      "source": [
        "#swapcaese() tüm harf boyutlarını mevcudun teersine dönüştürür\n",
        "\"Hakl banKASı\".swapcase().replace(\" \",\"\")"
      ],
      "metadata": {
        "colab": {
          "base_uri": "https://localhost:8080/",
          "height": 35
        },
        "id": "9I_0Oe2kw3j0",
        "outputId": "40098fe5-383a-4bb2-a56e-b2d19b57b1d6"
      },
      "execution_count": 132,
      "outputs": [
        {
          "output_type": "execute_result",
          "data": {
            "text/plain": [
              "'hAKLBANkasI'"
            ],
            "application/vnd.google.colaboratory.intrinsic+json": {
              "type": "string"
            }
          },
          "metadata": {},
          "execution_count": 132
        }
      ]
    },
    {
      "cell_type": "code",
      "source": [
        "#title()\n",
        "\"python eğitimi\".title()"
      ],
      "metadata": {
        "colab": {
          "base_uri": "https://localhost:8080/",
          "height": 35
        },
        "id": "A8N_c0aGxHI7",
        "outputId": "75ed1009-57bf-423f-cf92-58dcb553202e"
      },
      "execution_count": 133,
      "outputs": [
        {
          "output_type": "execute_result",
          "data": {
            "text/plain": [
              "'Python Eğitimi'"
            ],
            "application/vnd.google.colaboratory.intrinsic+json": {
              "type": "string"
            }
          },
          "metadata": {},
          "execution_count": 133
        }
      ]
    },
    {
      "cell_type": "code",
      "source": [
        "#replace()\n",
        "\"0\".join(\"H0A0L0K0A0B0A0N0K\".replace(\"0\",\"\"))"
      ],
      "metadata": {
        "colab": {
          "base_uri": "https://localhost:8080/",
          "height": 35
        },
        "id": "nsTU9OdbxNca",
        "outputId": "1d03888d-3378-44e8-9b0a-08b6a9866295"
      },
      "execution_count": 139,
      "outputs": [
        {
          "output_type": "execute_result",
          "data": {
            "text/plain": [
              "'H0A0L0K0A0B0A0N0K'"
            ],
            "application/vnd.google.colaboratory.intrinsic+json": {
              "type": "string"
            }
          },
          "metadata": {},
          "execution_count": 139
        }
      ]
    },
    {
      "cell_type": "code",
      "source": [],
      "metadata": {
        "id": "NpNO5yJBxwyU"
      },
      "execution_count": null,
      "outputs": []
    },
    {
      "cell_type": "markdown",
      "source": [
        "##Listelere Giriş\n",
        "- birden fazla, birbirinden farklı tipteki verilerin ortak tutulduğu konteyner tarzı yapılarıdr.\n",
        "dışardan verilere erişebilir\n"
      ],
      "metadata": {
        "id": "iaJwMEBgxyqk"
      }
    },
    {
      "cell_type": "code",
      "source": [],
      "metadata": {
        "id": "PRhaClefyjr2"
      },
      "execution_count": null,
      "outputs": []
    },
    {
      "cell_type": "code",
      "source": [
        "ogr_vz = [50,45,90,20,15,70,60]\n",
        "print(ogr_vz)\n",
        "\n",
        ""
      ],
      "metadata": {
        "colab": {
          "base_uri": "https://localhost:8080/"
        },
        "id": "jYMDcA5xx2BB",
        "outputId": "6e21deb6-aae2-4891-86c1-29e0658e7dfe"
      },
      "execution_count": 141,
      "outputs": [
        {
          "output_type": "stream",
          "name": "stdout",
          "text": [
            "[50, 45, 90, 20, 15, 70, 60]\n"
          ]
        }
      ]
    },
    {
      "cell_type": "code",
      "source": [
        "il_listesi= {\"Ankara\",\"İstanbul\",\"Trabzon\"}"
      ],
      "metadata": {
        "id": "h38aYw9_zTie"
      },
      "execution_count": 142,
      "outputs": []
    },
    {
      "cell_type": "code",
      "source": [
        "print(il_listesi)"
      ],
      "metadata": {
        "colab": {
          "base_uri": "https://localhost:8080/"
        },
        "id": "mdVL0MHpzZn3",
        "outputId": "e06c8004-2f8e-47f1-a22f-f3639441398e"
      },
      "execution_count": 143,
      "outputs": [
        {
          "output_type": "stream",
          "name": "stdout",
          "text": [
            "{'Ankara', 'Trabzon', 'İstanbul'}\n"
          ]
        }
      ]
    },
    {
      "cell_type": "code",
      "source": [],
      "metadata": {
        "id": "Eht-eFdp0y0p"
      },
      "execution_count": null,
      "outputs": []
    },
    {
      "cell_type": "code",
      "source": [
        "karisik_listte =[1,2,3,4,\"Ankara\",[23,3,5,6]]\n",
        "print(karisik_listte)"
      ],
      "metadata": {
        "colab": {
          "base_uri": "https://localhost:8080/"
        },
        "id": "WOW1nSXrzbne",
        "outputId": "6b05acc1-a8b0-4289-8bee-e32d84357e61"
      },
      "execution_count": 164,
      "outputs": [
        {
          "output_type": "stream",
          "name": "stdout",
          "text": [
            "[1, 2, 3, 4, 'Ankara', [23, 3, 5, 6]]\n"
          ]
        }
      ]
    },
    {
      "cell_type": "code",
      "source": [],
      "metadata": {
        "id": "c9ffW1sg2TH4"
      },
      "execution_count": null,
      "outputs": []
    },
    {
      "cell_type": "code",
      "source": [],
      "metadata": {
        "id": "KC0aNdG41zMp"
      },
      "execution_count": null,
      "outputs": []
    },
    {
      "cell_type": "code",
      "source": [],
      "metadata": {
        "id": "wi6rCAg31wWK"
      },
      "execution_count": null,
      "outputs": []
    },
    {
      "cell_type": "code",
      "source": [],
      "metadata": {
        "id": "8bxykVRO1s6G"
      },
      "execution_count": null,
      "outputs": []
    },
    {
      "cell_type": "code",
      "source": [],
      "metadata": {
        "id": "0QP21UID1mqe"
      },
      "execution_count": null,
      "outputs": []
    },
    {
      "cell_type": "code",
      "source": [],
      "metadata": {
        "id": "IF3fw3mp1HTo"
      },
      "execution_count": null,
      "outputs": []
    },
    {
      "cell_type": "code",
      "source": [],
      "metadata": {
        "id": "ItX_rKdQ004Y"
      },
      "execution_count": null,
      "outputs": []
    },
    {
      "cell_type": "code",
      "source": [
        "len(ogr_vz)"
      ],
      "metadata": {
        "colab": {
          "base_uri": "https://localhost:8080/"
        },
        "id": "WQtfy_tgzy7G",
        "outputId": "986721f7-cf87-4a14-f353-37c6a6ee0121"
      },
      "execution_count": 146,
      "outputs": [
        {
          "output_type": "execute_result",
          "data": {
            "text/plain": [
              "7"
            ]
          },
          "metadata": {},
          "execution_count": 146
        }
      ]
    },
    {
      "cell_type": "code",
      "source": [
        "len(il_listesi)"
      ],
      "metadata": {
        "colab": {
          "base_uri": "https://localhost:8080/"
        },
        "id": "Ew_N22raz2rQ",
        "outputId": "61d244b6-6d77-40eb-b8f7-5e0b84cf4f28"
      },
      "execution_count": 147,
      "outputs": [
        {
          "output_type": "execute_result",
          "data": {
            "text/plain": [
              "3"
            ]
          },
          "metadata": {},
          "execution_count": 147
        }
      ]
    },
    {
      "cell_type": "code",
      "source": [
        "metin = \"HALKBANK\"\n",
        "metin[0].lower()\n"
      ],
      "metadata": {
        "colab": {
          "base_uri": "https://localhost:8080/",
          "height": 35
        },
        "id": "ZdkZJUBdz52q",
        "outputId": "f5d2c1d3-0a2e-451b-ae72-afe292d4e907"
      },
      "execution_count": 148,
      "outputs": [
        {
          "output_type": "execute_result",
          "data": {
            "text/plain": [
              "'h'"
            ],
            "application/vnd.google.colaboratory.intrinsic+json": {
              "type": "string"
            }
          },
          "metadata": {},
          "execution_count": 148
        }
      ]
    },
    {
      "cell_type": "code",
      "source": [
        "karisik_listte[-1][-1][1] + 5"
      ],
      "metadata": {
        "colab": {
          "base_uri": "https://localhost:8080/",
          "height": 141
        },
        "id": "RJD9BUwM0NLF",
        "outputId": "7040b116-6e19-4e08-f725-fa94a03dae88"
      },
      "execution_count": 165,
      "outputs": [
        {
          "output_type": "error",
          "ename": "TypeError",
          "evalue": "'int' object is not subscriptable",
          "traceback": [
            "\u001b[0;31m---------------------------------------------------------------------------\u001b[0m",
            "\u001b[0;31mTypeError\u001b[0m                                 Traceback (most recent call last)",
            "\u001b[0;32m<ipython-input-165-c51df24f7860>\u001b[0m in \u001b[0;36m<cell line: 0>\u001b[0;34m()\u001b[0m\n\u001b[0;32m----> 1\u001b[0;31m \u001b[0mkarisik_listte\u001b[0m\u001b[0;34m[\u001b[0m\u001b[0;34m-\u001b[0m\u001b[0;36m1\u001b[0m\u001b[0;34m]\u001b[0m\u001b[0;34m[\u001b[0m\u001b[0;34m-\u001b[0m\u001b[0;36m1\u001b[0m\u001b[0;34m]\u001b[0m\u001b[0;34m[\u001b[0m\u001b[0;36m1\u001b[0m\u001b[0;34m]\u001b[0m \u001b[0;34m+\u001b[0m \u001b[0;36m5\u001b[0m\u001b[0;34m\u001b[0m\u001b[0;34m\u001b[0m\u001b[0m\n\u001b[0m",
            "\u001b[0;31mTypeError\u001b[0m: 'int' object is not subscriptable"
          ]
        }
      ]
    },
    {
      "cell_type": "markdown",
      "source": [
        "##koşullu ifadeler\n",
        "### Karşılaştırma operatörleri\n",
        "**Birişemdir** bir veri döndüren bir işlemdir atama değildir\n",
        "sonucunda bool bir değer döner\n",
        "b=2 -> bu bir atamadır\n",
        "> b == 2 bu bir karşılaştırmadıe"
      ],
      "metadata": {
        "id": "qJqMLQM32d85"
      }
    },
    {
      "cell_type": "code",
      "source": [
        "b=2\n",
        "print(b)"
      ],
      "metadata": {
        "colab": {
          "base_uri": "https://localhost:8080/"
        },
        "id": "V1g9mNAG2_9y",
        "outputId": "febb152e-30f4-4ba6-f806-36ce4241a1a6"
      },
      "execution_count": 167,
      "outputs": [
        {
          "output_type": "stream",
          "name": "stdout",
          "text": [
            "2\n"
          ]
        }
      ]
    },
    {
      "cell_type": "code",
      "source": [
        "b==2#matematikte sonuç veren bir işlemdir\n"
      ],
      "metadata": {
        "colab": {
          "base_uri": "https://localhost:8080/"
        },
        "id": "Jtbn2ZHX3Epq",
        "outputId": "f3c06247-65ee-4e8b-ab01-f78a2afc808b"
      },
      "execution_count": 169,
      "outputs": [
        {
          "output_type": "execute_result",
          "data": {
            "text/plain": [
              "True"
            ]
          },
          "metadata": {},
          "execution_count": 169
        }
      ]
    },
    {
      "cell_type": "code",
      "source": [
        "2 == 2\n",
        "2!= 2"
      ],
      "metadata": {
        "colab": {
          "base_uri": "https://localhost:8080/"
        },
        "id": "uvc_ywtC3MGj",
        "outputId": "ac11043a-85fc-4818-a194-841ff3d41799"
      },
      "execution_count": 170,
      "outputs": [
        {
          "output_type": "execute_result",
          "data": {
            "text/plain": [
              "False"
            ]
          },
          "metadata": {},
          "execution_count": 170
        }
      ]
    },
    {
      "cell_type": "code",
      "source": [
        "1!=2"
      ],
      "metadata": {
        "colab": {
          "base_uri": "https://localhost:8080/"
        },
        "id": "O4TFgBOs3QrP",
        "outputId": "4b66e28f-12fc-4002-9181-e4c7f92295c8"
      },
      "execution_count": 171,
      "outputs": [
        {
          "output_type": "execute_result",
          "data": {
            "text/plain": [
              "True"
            ]
          },
          "metadata": {},
          "execution_count": 171
        }
      ]
    },
    {
      "cell_type": "code",
      "source": [
        "\"0\" == 0"
      ],
      "metadata": {
        "colab": {
          "base_uri": "https://localhost:8080/"
        },
        "id": "Rbv-4pz43SqF",
        "outputId": "cd3878cf-3547-4af1-d0b4-9d7782e9f26f"
      },
      "execution_count": 172,
      "outputs": [
        {
          "output_type": "execute_result",
          "data": {
            "text/plain": [
              "False"
            ]
          },
          "metadata": {},
          "execution_count": 172
        }
      ]
    },
    {
      "cell_type": "code",
      "source": [],
      "metadata": {
        "id": "-dNUk7Bv3UtX"
      },
      "execution_count": null,
      "outputs": []
    },
    {
      "cell_type": "code",
      "source": [],
      "metadata": {
        "id": "YcDmRzdR3GWX"
      },
      "execution_count": null,
      "outputs": []
    },
    {
      "cell_type": "code",
      "source": [],
      "metadata": {
        "id": "3zIREyOu3DVU"
      },
      "execution_count": null,
      "outputs": []
    },
    {
      "cell_type": "code",
      "source": [],
      "metadata": {
        "id": "QgFcOGaw26TF"
      },
      "execution_count": null,
      "outputs": []
    },
    {
      "cell_type": "code",
      "source": [],
      "metadata": {
        "id": "-fP-lTBK2jYd"
      },
      "execution_count": null,
      "outputs": []
    },
    {
      "cell_type": "code",
      "source": [],
      "metadata": {
        "id": "AW9CR90W2e3m"
      },
      "execution_count": null,
      "outputs": []
    },
    {
      "cell_type": "code",
      "source": [
        "##koşullu ifadeler"
      ],
      "metadata": {
        "id": "uQpu_m0B2Yox"
      },
      "execution_count": null,
      "outputs": []
    },
    {
      "cell_type": "code",
      "source": [],
      "metadata": {
        "id": "zHiDU-zU2Q85"
      },
      "execution_count": null,
      "outputs": []
    },
    {
      "cell_type": "code",
      "source": [],
      "metadata": {
        "id": "OanizbfN2Hob"
      },
      "execution_count": null,
      "outputs": []
    },
    {
      "cell_type": "code",
      "source": [],
      "metadata": {
        "id": "7Wz7bXU-2Gmq"
      },
      "execution_count": null,
      "outputs": []
    },
    {
      "cell_type": "code",
      "source": [],
      "metadata": {
        "id": "n7HqAuYd105Q"
      },
      "execution_count": null,
      "outputs": []
    },
    {
      "cell_type": "code",
      "source": [],
      "metadata": {
        "id": "W0Igscv51nr7"
      },
      "execution_count": null,
      "outputs": []
    },
    {
      "cell_type": "code",
      "source": [],
      "metadata": {
        "id": "b68MuFs81IVI"
      },
      "execution_count": null,
      "outputs": []
    },
    {
      "cell_type": "code",
      "source": [],
      "metadata": {
        "id": "Px8E205d02y2"
      },
      "execution_count": null,
      "outputs": []
    },
    {
      "cell_type": "code",
      "source": [],
      "metadata": {
        "id": "Kh-Ha7Ys0v6S"
      },
      "execution_count": null,
      "outputs": []
    },
    {
      "cell_type": "code",
      "source": [],
      "metadata": {
        "id": "W6-OwVu30lfR"
      },
      "execution_count": null,
      "outputs": []
    },
    {
      "cell_type": "code",
      "source": [],
      "metadata": {
        "id": "E7spIJc4zmet"
      },
      "execution_count": null,
      "outputs": []
    },
    {
      "cell_type": "code",
      "source": [],
      "metadata": {
        "id": "7J_9NHY_xthp"
      },
      "execution_count": null,
      "outputs": []
    },
    {
      "cell_type": "code",
      "source": [],
      "metadata": {
        "id": "079j6tNixoO2"
      },
      "execution_count": null,
      "outputs": []
    },
    {
      "cell_type": "code",
      "source": [],
      "metadata": {
        "id": "fFESr1EGxiiW"
      },
      "execution_count": null,
      "outputs": []
    },
    {
      "cell_type": "code",
      "source": [
        "#join()\n",
        "\"0\".join(\"HALKBANK\")"
      ],
      "metadata": {
        "colab": {
          "base_uri": "https://localhost:8080/",
          "height": 35
        },
        "id": "dA5-L3I4xWrB",
        "outputId": "162ceba6-b364-42c2-a852-d22e549299f3"
      },
      "execution_count": 135,
      "outputs": [
        {
          "output_type": "execute_result",
          "data": {
            "text/plain": [
              "'H0A0L0K0B0A0N0K'"
            ],
            "application/vnd.google.colaboratory.intrinsic+json": {
              "type": "string"
            }
          },
          "metadata": {},
          "execution_count": 135
        }
      ]
    },
    {
      "cell_type": "code",
      "source": [],
      "metadata": {
        "id": "aHmcdeZrxdrC"
      },
      "execution_count": null,
      "outputs": []
    },
    {
      "cell_type": "code",
      "source": [],
      "metadata": {
        "id": "NvDb0WFlwVfJ"
      },
      "execution_count": null,
      "outputs": []
    },
    {
      "cell_type": "code",
      "source": [],
      "metadata": {
        "id": "2r_H34JEv2D_"
      },
      "execution_count": null,
      "outputs": []
    },
    {
      "cell_type": "code",
      "source": [],
      "metadata": {
        "id": "YSHVNO6uv0rm"
      },
      "execution_count": null,
      "outputs": []
    },
    {
      "cell_type": "code",
      "source": [
        "\"STRING\".lower()"
      ],
      "metadata": {
        "id": "X4v9psSOpzKs"
      },
      "execution_count": null,
      "outputs": []
    },
    {
      "cell_type": "code",
      "source": [],
      "metadata": {
        "id": "gLRtjl-Yph02"
      },
      "execution_count": null,
      "outputs": []
    },
    {
      "cell_type": "code",
      "source": [
        "metin_hatali = \"HA0LK0BA0N0K\""
      ],
      "metadata": {
        "id": "R1WGtMO8pNC-"
      },
      "execution_count": null,
      "outputs": []
    },
    {
      "cell_type": "code",
      "source": [
        "meti"
      ],
      "metadata": {
        "id": "90XIhOq7oVJX"
      },
      "execution_count": null,
      "outputs": []
    },
    {
      "cell_type": "code",
      "source": [],
      "metadata": {
        "id": "xxlx4Fz3oT5O"
      },
      "execution_count": null,
      "outputs": []
    },
    {
      "cell_type": "code",
      "source": [],
      "metadata": {
        "id": "691cm9kToI_D"
      },
      "execution_count": null,
      "outputs": []
    },
    {
      "cell_type": "code",
      "source": [],
      "metadata": {
        "id": "Pw_VJUZon4Oo"
      },
      "execution_count": null,
      "outputs": []
    },
    {
      "cell_type": "code",
      "source": [],
      "metadata": {
        "id": "P1fxeZqanaae"
      },
      "execution_count": null,
      "outputs": []
    },
    {
      "cell_type": "code",
      "source": [],
      "metadata": {
        "id": "Yg1GMkRtnSak"
      },
      "execution_count": null,
      "outputs": []
    },
    {
      "cell_type": "code",
      "source": [],
      "metadata": {
        "id": "wfKX7Ba5nJtp"
      },
      "execution_count": null,
      "outputs": []
    },
    {
      "cell_type": "code",
      "source": [],
      "metadata": {
        "id": "eeNRopLEnE5h"
      },
      "execution_count": null,
      "outputs": []
    },
    {
      "cell_type": "code",
      "source": [],
      "metadata": {
        "id": "Isn6ZGcHm-Kj"
      },
      "execution_count": null,
      "outputs": []
    },
    {
      "cell_type": "code",
      "source": [],
      "metadata": {
        "id": "JbvLOP5tm7MD"
      },
      "execution_count": null,
      "outputs": []
    },
    {
      "cell_type": "code",
      "source": [],
      "metadata": {
        "id": "gcI4Nvimmrd_"
      },
      "execution_count": null,
      "outputs": []
    },
    {
      "cell_type": "code",
      "source": [],
      "metadata": {
        "id": "PCyGWW7Ymmes"
      },
      "execution_count": null,
      "outputs": []
    },
    {
      "cell_type": "code",
      "source": [],
      "metadata": {
        "id": "sOQ8-5ksmLZj"
      },
      "execution_count": null,
      "outputs": []
    },
    {
      "cell_type": "code",
      "source": [],
      "metadata": {
        "id": "waUGX71TleSX"
      },
      "execution_count": null,
      "outputs": []
    },
    {
      "cell_type": "code",
      "source": [],
      "metadata": {
        "id": "5NN7NXoalQAf"
      },
      "execution_count": null,
      "outputs": []
    },
    {
      "cell_type": "code",
      "source": [],
      "metadata": {
        "id": "V3g_fb5nlN77"
      },
      "execution_count": null,
      "outputs": []
    },
    {
      "cell_type": "code",
      "source": [],
      "metadata": {
        "id": "SInTZP8Yj7nD"
      },
      "execution_count": null,
      "outputs": []
    },
    {
      "cell_type": "code",
      "source": [],
      "metadata": {
        "id": "tbPFBv45jypG"
      },
      "execution_count": null,
      "outputs": []
    },
    {
      "cell_type": "code",
      "source": [],
      "metadata": {
        "id": "24h8CjpnjeQM"
      },
      "execution_count": null,
      "outputs": []
    },
    {
      "cell_type": "code",
      "source": [],
      "metadata": {
        "id": "1X6CnOG2iZAu"
      },
      "execution_count": null,
      "outputs": []
    },
    {
      "cell_type": "code",
      "source": [],
      "metadata": {
        "id": "WJhQUSs0iV24"
      },
      "execution_count": null,
      "outputs": []
    },
    {
      "cell_type": "code",
      "source": [],
      "metadata": {
        "id": "1vWxcAr9hOkW"
      },
      "execution_count": null,
      "outputs": []
    },
    {
      "cell_type": "code",
      "source": [
        "\n"
      ],
      "metadata": {
        "id": "MWuH_fwcgKdf"
      },
      "execution_count": null,
      "outputs": []
    },
    {
      "cell_type": "code",
      "source": [],
      "metadata": {
        "id": "6t7IL1_DgA9L"
      },
      "execution_count": null,
      "outputs": []
    },
    {
      "cell_type": "code",
      "source": [],
      "metadata": {
        "id": "mH508T00L3Iq"
      },
      "execution_count": null,
      "outputs": []
    },
    {
      "cell_type": "code",
      "source": [],
      "metadata": {
        "id": "gvCWxNyiL1FT"
      },
      "execution_count": null,
      "outputs": []
    },
    {
      "cell_type": "code",
      "source": [],
      "metadata": {
        "id": "_sfAr5YQLxrK"
      },
      "execution_count": null,
      "outputs": []
    },
    {
      "cell_type": "code",
      "source": [],
      "metadata": {
        "id": "8DMPpaf8LK5j"
      },
      "execution_count": null,
      "outputs": []
    },
    {
      "cell_type": "code",
      "source": [],
      "metadata": {
        "id": "ZEpH4aNsK7Un"
      },
      "execution_count": null,
      "outputs": []
    },
    {
      "cell_type": "code",
      "source": [],
      "metadata": {
        "id": "aH5boVcYDz9f"
      },
      "execution_count": null,
      "outputs": []
    },
    {
      "cell_type": "code",
      "source": [],
      "metadata": {
        "id": "Hgozpqx7Dv7K"
      },
      "execution_count": null,
      "outputs": []
    },
    {
      "cell_type": "code",
      "source": [],
      "metadata": {
        "id": "6v0YAz_sCq6p"
      },
      "execution_count": null,
      "outputs": []
    },
    {
      "cell_type": "code",
      "source": [],
      "metadata": {
        "id": "q0bvx6MZB3ak"
      },
      "execution_count": null,
      "outputs": []
    },
    {
      "cell_type": "code",
      "source": [],
      "metadata": {
        "id": "y9RPj8u9BbH8"
      },
      "execution_count": null,
      "outputs": []
    },
    {
      "cell_type": "code",
      "source": [
        "####Kök alma"
      ],
      "metadata": {
        "id": "H8W76XTqAX3j"
      },
      "execution_count": null,
      "outputs": []
    },
    {
      "cell_type": "markdown",
      "source": [],
      "metadata": {
        "id": "bfVudW0xAduB"
      }
    },
    {
      "cell_type": "code",
      "source": [],
      "metadata": {
        "id": "ruIU42Sg-4vt"
      },
      "execution_count": null,
      "outputs": []
    },
    {
      "cell_type": "code",
      "source": [],
      "metadata": {
        "id": "twqtXRWe-HTK"
      },
      "execution_count": null,
      "outputs": []
    },
    {
      "cell_type": "code",
      "source": [],
      "metadata": {
        "id": "vxDMz1zF7Y0N"
      },
      "execution_count": null,
      "outputs": []
    },
    {
      "cell_type": "code",
      "source": [],
      "metadata": {
        "id": "V_8SVRhX7V7b"
      },
      "execution_count": null,
      "outputs": []
    }
  ]
}